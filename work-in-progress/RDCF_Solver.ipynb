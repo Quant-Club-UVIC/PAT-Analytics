{
 "cells": [
  {
   "cell_type": "markdown",
   "id": "f94c7f5c",
   "metadata": {},
   "source": [
    "# Reverse DCF Solver\n",
    "\n",
    "This notebook will walk through the process of retrieveing market data, and running a reverse dcf on a company. Thus getting implied growth"
   ]
  },
  {
   "cell_type": "markdown",
   "id": "5b63faf5",
   "metadata": {},
   "source": [
    "## Some Math  \n",
    "Begin with the DCF model, where a company is modelled using its cash flows. Let $0 \\leq i \\leq n$ be our time steps. We will consider a company with  \n",
    "- $c_i$ is cashflow at time $i$  \n",
    "- $r_i$ is the discount rate at time $i$  \n",
    "- $M$ is the market cap of the stock  \n",
    "We can recover the price of a stock by $p = M / k$, where $p$ is the share price, and $k$ is the number of shares outstanding. We will assume that the current price is the sum of the discounted price of all future cash flows, i.e.  \n",
    "\\begin{equation}  \n",
    "M = \\sum_{i = 0}^{n} \\dfrac{c_i}{(1+r_i)^i}\n",
    "\\end{equation}  \n",
    "What we wish to do is *given* $M$ what can $c_i$ and $r_i$ be? Using this we can inform the investor what the market is pricing in.  \n",
    "  \n",
    "\n",
    "Let's simplify the problem, we will assume  \n",
    "> Growth is constant year over year, i.e. $c_{i+1} = (1+g)c_{i}$  \n",
    "> Discount rate is constant, i.e. $r_i = r_j = r$  \n",
    "\n",
    "Rewrite the DCF as  \n",
    "\n",
    "\\begin{equation}\n",
    "\\begin{aligned}\n",
    "M &= \\sum_{i = 0}^{n} \\dfrac{c_i}{(1+r_i)^i} \\\\ \n",
    "M &= \\sum_{i = 0}^{n} \\dfrac{c_0(1+g)^i}{(1+r)^i} \\\\\n",
    "M &= c_0 \\sum_{i = 0}^{n} \\bigg ( \\dfrac{1+g}{1+r} \\bigg )^i \\\\\n",
    "\\end{aligned}\n",
    "\\end{equation}  \n",
    "For the sake of brevity, let $x = \\dfrac{1+g}{1+r}$. Next, use the geometric sum formula : $\\sum^n_{j=0} x^j = \\dfrac{x^{n+1} - 1}{x - 1}$  \n",
    "\n",
    "\\begin{equation}\n",
    "\\begin{aligned}\n",
    "M &= c_0 \\cdot \\dfrac{x^{n+1} - 1}{x - 1} \\\\\n",
    "M(x-1) &= c_0(x^{n+1} - 1) \\\\\n",
    "0 &= c_0 x^{n+1} - Mx + (M - c_0)\n",
    "\\end{aligned}  \n",
    "\\end{equation}    \n",
    "\n",
    "We now have a $n+1$ degree polynomial, we will use a solver to get us roots. We will discard imaginery roots (since an imagnery root would require imagenery discount rate or growth). Let our real roots be denoted as $x_1, x_2, ... , x_l$. Rearange the equation for $x$,  \n",
    "\\begin{equation}\n",
    "\\begin{aligned}\n",
    "x &= \\dfrac{1+g}{1+r} \\\\\n",
    "x + rx &= 1+g \\\\\n",
    "g &= x + rx - 1\n",
    "\\end{aligned}\n",
    "\\end{equation}\n",
    "Do this for each of $x_1,...,x_l$, and we have a set of possible growths. Further constraints are needed to cut down on the set of answers.  \n",
    "One possible constraint is that $0 < x$, as a negative ratio would imply that exactly one of $g$ or $r$ is < -1. Moreover, $x=1$ is always a solution, so we can throw that case out.  \n",
    "So if we calculate that $g > r, \\forall r$, this would means that the implied growth of the company will always beat the discount rate, no matter what it is. This could be useful. A quick way to figure this out would be to let $g > r$, then   \n",
    "\\begin{equation}\n",
    "\\begin{aligned}\n",
    "g &> r \\\\\n",
    "x + rx - 1 &> r \\\\\n",
    "x(1+r) &>r + 1 \\\\\n",
    "x &> 1 \\\\ \n",
    "\\end{aligned}\n",
    "\\end{equation}\n",
    "If $x > 1$ then $g > r$. This means the market believes that this company will beat the discount rate in terms of growth, this infomation is *already priced in*.\n"
   ]
  },
  {
   "cell_type": "markdown",
   "id": "fe2e1fb8",
   "metadata": {},
   "source": [
    "# How to run this code  \n",
    "Download the below dependencies:\n",
    "```bash\n",
    "pip3 install edgartools\n",
    "pip3 install yfinance\n",
    "pip3 install scipy\n",
    "pip3 install matplotlib \n",
    "```\n",
    "Run!"
   ]
  },
  {
   "cell_type": "code",
   "execution_count": 6,
   "id": "4150f668",
   "metadata": {},
   "outputs": [],
   "source": [
    "import numpy as np\n",
    "import matplotlib.pyplot as plt\n",
    "from scipy import optimize\n",
    "import yfinance as yf\n",
    "import edgar\n",
    "from edgar import Company\n",
    "edgar.set_identity(\"malganisinferno@gmail.com\")"
   ]
  },
  {
   "cell_type": "code",
   "execution_count": 7,
   "id": "0a931420",
   "metadata": {},
   "outputs": [],
   "source": [
    "def get_cf(company_ticker : str) -> float:\n",
    "    \"\"\"\n",
    "    WARNING!! Does not work for all companies, need to make it compatible with all\n",
    "    Get the companys most recent cash flow\n",
    "    \"\"\"\n",
    "    #set the name of the compan\n",
    "    company = Company(company_ticker)\n",
    "    # 10-K is the anual report\n",
    "    filings = company.get_filings(form='10-K').latest()\n",
    "\n",
    "    #parse the data\n",
    "    xbrl = filings.xbrl()\n",
    "    statements = xbrl.statements \n",
    "    \n",
    "    financials = company.get_financials()\n",
    "\n",
    "    cap_ex = financials.get_capital_expenditures()\n",
    "\n",
    "\n",
    "    #get a dataframe of cash flows\n",
    "    cf_df = statements.cashflow_statement().to_dataframe()\n",
    "\n",
    "    #find the latest one\n",
    "    op_cf_row = cf_df[cf_df['label'] == 'Net Cash from Operating Activities']\n",
    "    latest_opcf_date = op_cf_row.columns.sort_values()[2] #assume they list 3 most recent years\n",
    "    op_cf = op_cf_row[latest_opcf_date].values[0] # get the row and extract the number\n",
    "\n",
    "    #simple formula\n",
    "    free_cf = op_cf - cap_ex\n",
    "\n",
    "    return free_cf\n",
    "\n",
    "def get_dcf_vars(company_ticker : str) -> tuple[float, float]:\n",
    "    \"\"\"\n",
    "    Given a companys ticker return to the user:\n",
    "    -Market Cap\n",
    "    -Latest cash flow\n",
    "    \"\"\"\n",
    "\n",
    "    ticker = yf.Ticker(company_ticker)\n",
    "    market_cap = ticker.info['marketCap']\n",
    "\n",
    "    c_0 = get_cf(company_ticker)\n",
    "    \n",
    "    return market_cap, c_0"
   ]
  },
  {
   "cell_type": "code",
   "execution_count": 8,
   "id": "9ecabe3d",
   "metadata": {},
   "outputs": [],
   "source": [
    "def find_ratio(c_0 : float, M : float, n : float):\n",
    "    \"\"\"\n",
    "    Given the initial cashflow, market cap and number of time periods,\n",
    "    set up and solve the rdcf polynomial of the form\n",
    "    0=c_0*x^{n+1} - M*x + (M - c_0)\n",
    "    \"\"\"\n",
    "    coeffs = [c_0] + [0]*(n-1) + [-M, M-c_0]\n",
    "    return np.roots(coeffs)\n",
    "\n",
    "def get_growth(x : float, r : float):\n",
    "    \"\"\"\n",
    "    Return the growth given the ratios and discount rate\n",
    "    g = x + r*x - 1\n",
    "    \"\"\"\n",
    "    return x + r*x - 1"
   ]
  },
  {
   "cell_type": "code",
   "execution_count": 65,
   "id": "207be263",
   "metadata": {},
   "outputs": [],
   "source": [
    "company_ticker = 'MSFT'\n",
    "M, c_0 = get_dcf_vars(company_ticker)\n",
    "n = 40 # NOTE there are 4 quarters in a year, the cash flow data is quarterly, thus n refers to quarters\n",
    "ratios = find_ratio(c_0, M, n)\n",
    "real_ratios = ratios.real[abs(ratios.imag)<1e-5]\n",
    "cond1 = real_ratios > 0\n",
    "cond2 = np.isclose(real_ratios, 1)\n",
    "real_ratios = real_ratios[cond1 & ~cond2][0]\n"
   ]
  },
  {
   "cell_type": "code",
   "execution_count": 66,
   "id": "b1d6eaad",
   "metadata": {},
   "outputs": [
    {
     "data": {
      "text/plain": [
       "np.float64(1.0132796480573358)"
      ]
     },
     "execution_count": 66,
     "metadata": {},
     "output_type": "execute_result"
    }
   ],
   "source": [
    "real_ratios\t"
   ]
  },
  {
   "cell_type": "code",
   "execution_count": 67,
   "id": "fee84977",
   "metadata": {},
   "outputs": [
    {
     "name": "stdout",
     "output_type": "stream",
     "text": [
      "Most recent cash flow : 71,611,000,000.0\n",
      "Market Cap : 3,869,260,120,064\n"
     ]
    }
   ],
   "source": [
    "print(\"Most recent cash flow : {:,}\".format(c_0)  )\n",
    "print(\"Market Cap : {:,}\".format(M))"
   ]
  },
  {
   "cell_type": "code",
   "execution_count": 68,
   "id": "0d878973",
   "metadata": {},
   "outputs": [
    {
     "name": "stdout",
     "output_type": "stream",
     "text": [
      "The possible implied growths for MSFT, given a discount rate of 4.00 % are:\n",
      " 5.38 %\n",
      "of 40 quarters of QoQ growth\n"
     ]
    }
   ],
   "source": [
    "r = 0.04\n",
    "g_arr = get_growth(real_ratios, r)\n",
    "print(f\"The possible implied growths for {company_ticker}, given a discount rate of{r * 100: .2f} % are:\")\n",
    "print(f\"{g_arr * 100: .2f} %\")\n",
    "\n",
    "print(f\"of {n} quarters of QoQ growth\")"
   ]
  },
  {
   "cell_type": "code",
   "execution_count": 69,
   "id": "26335000",
   "metadata": {},
   "outputs": [
    {
     "data": {
      "text/plain": [
       "[<matplotlib.lines.Line2D at 0x7a61aee350a0>]"
      ]
     },
     "execution_count": 69,
     "metadata": {},
     "output_type": "execute_result"
    },
    {
     "data": {
      "image/png": "[encoded data removed]",
      "text/plain": [
       "<Figure size 640x480 with 1 Axes>"
      ]
     },
     "metadata": {},
     "output_type": "display_data"
    }
   ],
   "source": [
    "x = np.linspace(-0.2, 0.2, 1000)\n",
    "y = get_growth(real_ratios, x)\n",
    "plt.title(f\"The implied growth with respect to discount rate of {company_ticker}\")\n",
    "\n",
    "plt.xlabel(r\"discount rate ($r$)\")\n",
    "plt.ylabel(r\"implied growth ($g$)\")\n",
    "plt.grid()\n",
    "plt.plot(x,y)"
   ]
  }
 ],
 "metadata": {
  "kernelspec": {
   "display_name": "venv (3.12.3)",
   "language": "python",
   "name": "python3"
  },
  "language_info": {
   "codemirror_mode": {
    "name": "ipython",
    "version": 3
   },
   "file_extension": ".py",
   "mimetype": "text/x-python",
   "name": "python",
   "nbconvert_exporter": "python",
   "pygments_lexer": "ipython3",
   "version": "3.12.3"
  }
 },
 "nbformat": 4,
 "nbformat_minor": 5
}
