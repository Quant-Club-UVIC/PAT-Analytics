{
 "cells": [
  {
   "cell_type": "code",
   "execution_count": 1,
   "id": "0c5d193d",
   "metadata": {},
   "outputs": [],
   "source": [
    "from pat_analytics import Portfolio\n",
    "\n",
    "import pandas as pd\n",
    "\n",
    "stock1 = pd.read_csv(\"LULU.csv\")"
   ]
  },
  {
   "cell_type": "code",
   "execution_count": 3,
   "id": "992ae00f",
   "metadata": {},
   "outputs": [],
   "source": [
    "stock1['datetime'] = pd.to_datetime(stock1['epoch'], unit='s')\n",
    "stock1 = stock1[['datetime', 'open', 'high', 'low', 'close', 'volume']]"
   ]
  },
  {
   "cell_type": "code",
   "execution_count": 7,
   "id": "7a16d58e",
   "metadata": {},
   "outputs": [],
   "source": [
    "stock2 = stock1.copy()\n",
    "stock2['open'] = stock2['open'] / 2\n",
    "stock2['close'] = stock2['close'] / 2\n",
    "stock2['high'] = stock2['high'] / 2\n",
    "stock2['low'] = stock2['low'] / 2\n",
    "\n",
    "data = {\"A\" : stock1, \"B\" : stock2}"
   ]
  },
  {
   "cell_type": "code",
   "execution_count": null,
   "id": "387818c1",
   "metadata": {},
   "outputs": [
    {
     "ename": "NameError",
     "evalue": "name 'data' is not defined",
     "output_type": "error",
     "traceback": [
      "\u001b[31m---------------------------------------------------------------------------\u001b[39m",
      "\u001b[31mNameError\u001b[39m                                 Traceback (most recent call last)",
      "\u001b[36mCell\u001b[39m\u001b[36m \u001b[39m\u001b[32mIn[6]\u001b[39m\u001b[32m, line 1\u001b[39m\n\u001b[32m----> \u001b[39m\u001b[32m1\u001b[39m p = Portfolio.from_dict(\u001b[43mdata\u001b[49m, )\n",
      "\u001b[31mNameError\u001b[39m: name 'data' is not defined"
     ]
    }
   ],
   "source": [
    "p = Portfolio.from_dict(data)"
   ]
  }
 ],
 "metadata": {
  "kernelspec": {
   "display_name": "venv",
   "language": "python",
   "name": "python3"
  },
  "language_info": {
   "codemirror_mode": {
    "name": "ipython",
    "version": 3
   },
   "file_extension": ".py",
   "mimetype": "text/x-python",
   "name": "python",
   "nbconvert_exporter": "python",
   "pygments_lexer": "ipython3",
   "version": "3.12.3"
  }
 },
 "nbformat": 4,
 "nbformat_minor": 5
}
