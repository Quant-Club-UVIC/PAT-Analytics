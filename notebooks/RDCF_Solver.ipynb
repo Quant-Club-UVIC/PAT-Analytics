{
 "cells": [
  {
   "cell_type": "markdown",
   "id": "f94c7f5c",
   "metadata": {},
   "source": [
    "# Reverse DCF Solver\n",
    "\n",
    "This notebook will walk through the process of retrieveing market data, and running a reverse dcf on a company. Thus getting implied growth"
   ]
  },
  {
   "cell_type": "markdown",
   "id": "5b63faf5",
   "metadata": {},
   "source": [
    "## Some Math  \n",
    "Begin with the DCF model, where a company is modelled using its cash flows. Let $0 \\leq i \\leq n$ be our time steps. We will consider a company with  \n",
    "- $c_i$ is cashflow at time $i$  \n",
    "- $r_i$ is the discount rate at time $i$  \n",
    "- $M$ is the market cap of the stock  \n",
    "We can recover the price of a stock by $p = M / k$, where $p$ is the share price, and $k$ is the number of shares outstanding. We will assume that the current price is the sum of the discounted price of all future cash flows, i.e.  \n",
    "\\begin{equation}  \n",
    "M = \\sum_{i = 0}^{n} \\dfrac{c_i}{(1+r_i)^i}\n",
    "\\end{equation}  \n",
    "What we wish to do is *given* $M$ what can $c_i$ and $r_i$ be? Using this we can inform the investor what the market is pricing in.  \n",
    "  \n",
    "\n",
    "Let's simplify the problem, we will assume  \n",
    "> Growth is constant year over year, i.e. $c_{i+1} = (1+g)c_{i}$  \n",
    "> Discount rate is constant, i.e. $r_i = r_j = r$  \n",
    "\n",
    "Rewrite the DCF as  \n",
    "\n",
    "\\begin{equation}\n",
    "\\begin{aligned}\n",
    "M &= \\sum_{i = 0}^{n} \\dfrac{c_i}{(1+r_i)^i} \\\\ \n",
    "M &= \\sum_{i = 0}^{n} \\dfrac{c_0(1+g)^i}{(1+r)^i} \\\\\n",
    "M &= c_0 \\sum_{i = 0}^{n} \\bigg ( \\dfrac{1+g}{1+r} \\bigg )^i \\\\\n",
    "\\end{aligned}\n",
    "\\end{equation}  \n",
    "For the sake of brevity, let $x = \\dfrac{1+g}{1+r}$. Next, use the geometric sum formula : $\\sum^n_{j=0} x^j = \\dfrac{x^{n+1} - 1}{x - 1}$  \n",
    "\n",
    "\\begin{equation}\n",
    "\\begin{aligned}\n",
    "M &= c_0 \\cdot \\dfrac{x^{n+1} - 1}{x - 1} \\\\\n",
    "M(x-1) &= c_0(x^{n+1} - 1) \\\\\n",
    "0 &= c_0 x^{n+1} - Mx + (M - c_0)\n",
    "\\end{aligned}  \n",
    "\\end{equation}    \n",
    "\n",
    "We now have a $n+1$ degree polynomial, we will use a solver to get us roots. We will discard imaginery roots (since an imagnery root would require imagenery discount rate or growth). Let our real roots be denoted as $x_1, x_2, ... , x_l$. Rearange the equation for $x$,  \n",
    "\\begin{equation}\n",
    "\\begin{aligned}\n",
    "x &= \\dfrac{1+g}{1+r} \\\\\n",
    "x + rx &= 1+g \\\\\n",
    "g &= x + rx - 1\n",
    "\\end{aligned}\n",
    "\\end{equation}\n",
    "Do this for each of $x_1,...,x_l$, and we have a set of possible growths. Further constraints are needed to cut down on the set of answers."
   ]
  },
  {
   "cell_type": "code",
   "execution_count": 1,
   "id": "4150f668",
   "metadata": {},
   "outputs": [],
   "source": [
    "import numpy as np\n",
    "import matplotlib.pyplot as plt\n",
    "from scipy import optimize\n",
    "import yfinance as yf\n",
    "from edgar import *\n",
    "\n",
    "#To comply with the SEC need to give email\n",
    "set_identity(\"malganisinferno@gmail.com\")"
   ]
  },
  {
   "cell_type": "code",
   "execution_count": 2,
   "id": "0a931420",
   "metadata": {},
   "outputs": [],
   "source": [
    "def get_cf(company_ticker : str) -> float:\n",
    "    \"\"\"\n",
    "    WARNING!! Does not work for all companies, need to make it compatible with all\n",
    "    Get the companys most recent cash flow\n",
    "    \"\"\"\n",
    "    #set the name of the compan\n",
    "    company = Company(company_ticker)\n",
    "    # 10-K is the anual report\n",
    "    filings = company.get_filings(form='10-K').latest()\n",
    "\n",
    "    #parse the data\n",
    "    xbrl = filings.xbrl()\n",
    "    statements = xbrl.statements \n",
    "    \n",
    "    financials = company.get_financials()\n",
    "\n",
    "    cap_ex = financials.get_capital_expenditures()\n",
    "\n",
    "\n",
    "    #get a dataframe of cash flows\n",
    "    cf_df = statements.cashflow_statement().to_dataframe()\n",
    "\n",
    "    #find the latest one\n",
    "    op_cf_row = cf_df[cf_df['label'] == 'Net Cash from Operating Activities']\n",
    "    latest_opcf_date = op_cf_row.columns.sort_values()[2] #assume they list 3 most recent years\n",
    "    op_cf = op_cf_row[latest_opcf_date].values[0] # get the row and extract the number\n",
    "\n",
    "    #simple formula\n",
    "    free_cf = op_cf - cap_ex\n",
    "\n",
    "    return free_cf\n",
    "\n",
    "def get_dcf_vars(company_ticker : str) -> tuple[float, float]:\n",
    "    \"\"\"\n",
    "    Given a companys ticker return to the user:\n",
    "    -Market Cap\n",
    "    -Latest cash flow\n",
    "    \"\"\"\n",
    "\n",
    "    ticker = yf.Ticker(company_ticker)\n",
    "    market_cap = ticker.info['marketCap']\n",
    "\n",
    "    c_0 = get_cf(company_ticker)\n",
    "    \n",
    "    return market_cap, c_0"
   ]
  },
  {
   "cell_type": "code",
   "execution_count": 3,
   "id": "9ecabe3d",
   "metadata": {},
   "outputs": [],
   "source": [
    "def find_ratio(c_0 : float, M : float, n : float):\n",
    "    \"\"\"\n",
    "    Given the initial cashflow, market cap and number of time periods,\n",
    "    set up and solve the rdcf polynomial of the form\n",
    "    0=c_0*x^{n+1} - M*x + (M - c_0)\n",
    "    \"\"\"\n",
    "    coeffs = [c_0] + [0]*(n-1) + [-M, M-c_0]\n",
    "    return np.roots(coeffs)\n",
    "\n",
    "def get_growth(x : float, r : float):\n",
    "    \"\"\"\n",
    "    Return the growth given the ratios and discount rate\n",
    "    g = x + r*x - 1\n",
    "    \"\"\"\n",
    "    return x + r*x - 1"
   ]
  },
  {
   "cell_type": "code",
   "execution_count": 11,
   "id": "207be263",
   "metadata": {},
   "outputs": [],
   "source": [
    "company_ticker = 'AAPL'\n",
    "M, c_0 = get_dcf_vars(company_ticker)\n",
    "n = 40 # NOTE there are 4 quarters in a year, the cash flow data is quarterly, thus n refers to quarters\n",
    "ratios = find_ratio(c_0, M, n)\n",
    "real_ratios = ratios.real[abs(ratios.imag)<1e-5]\n"
   ]
  },
  {
   "cell_type": "code",
   "execution_count": 13,
   "id": "fee84977",
   "metadata": {},
   "outputs": [
    {
     "data": {
      "text/plain": [
       "'127,701,000,000.0'"
      ]
     },
     "execution_count": 13,
     "metadata": {},
     "output_type": "execute_result"
    }
   ],
   "source": [
    "\"{:,}\".format(c_0)"
   ]
  },
  {
   "cell_type": "code",
   "execution_count": 9,
   "id": "0d878973",
   "metadata": {},
   "outputs": [
    {
     "name": "stdout",
     "output_type": "stream",
     "text": [
      "The possible implied growths for MTCH, given a discount rate of 10.00 % are:\n",
      "-218.05 %\n",
      " 10.00 %\n",
      "-1.81 %\n",
      "of 40 quarters of QoQ growth\n"
     ]
    }
   ],
   "source": [
    "r = 0.10\n",
    "g_arr = get_growth(real_ratios, r)\n",
    "print(f\"The possible implied growths for {company_ticker}, given a discount rate of{r * 100: .2f} % are:\")\n",
    "for g in g_arr:\n",
    "    print(f\"{g * 100: .2f} %\")\n",
    "\n",
    "print(f\"of {n} quarters of QoQ growth\")"
   ]
  }
 ],
 "metadata": {
  "kernelspec": {
   "display_name": "quant",
   "language": "python",
   "name": "python3"
  },
  "language_info": {
   "codemirror_mode": {
    "name": "ipython",
    "version": 3
   },
   "file_extension": ".py",
   "mimetype": "text/x-python",
   "name": "python",
   "nbconvert_exporter": "python",
   "pygments_lexer": "ipython3",
   "version": "3.12.3"
  }
 },
 "nbformat": 4,
 "nbformat_minor": 5
}
