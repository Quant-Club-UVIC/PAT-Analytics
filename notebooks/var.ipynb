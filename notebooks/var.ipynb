{
 "cells": [
  {
   "cell_type": "markdown",
   "metadata": {},
   "source": [
    "This notebook is to meant to build a risk model for PAT. I am going to implement weighted value at risk, this is a historical value at risk method, but it assigns more weight to recent returns and less to older ones by using exponential decay.\n",
    "\n",
    "$$ 0 <\\alpha < 1 $$\n",
    "$$ w_t = (1 - \\lambda)\\lambda^{t-1} , 0 < \\lambda < 1 $$\n",
    "\n",
    "\n"
   ]
  },
  {
   "cell_type": "code",
   "execution_count": 28,
   "metadata": {},
   "outputs": [],
   "source": [
    "import pandas as pd \n",
    "import numpy as np\n",
    "import matplotlib.pyplot as plt\n",
    "import matplotlib.pyplot as plt\n",
    "from scipy.stats import norm"
   ]
  },
  {
   "cell_type": "code",
   "execution_count": 36,
   "metadata": {},
   "outputs": [
    {
     "name": "stdout",
     "output_type": "stream",
     "text": [
      "                AAPL       GLD       JPM      MSFT       TLT       XOM\n",
      "Date                                                                  \n",
      "2007-01-04  0.021953 -0.010167  0.002493 -0.001676  0.006045 -0.018934\n",
      "2007-01-05 -0.007147 -0.024299 -0.008335 -0.005719 -0.004362  0.007125\n",
      "2007-01-08  0.004926  0.005139  0.003342  0.009737  0.001792 -0.008088\n",
      "2007-01-09  0.079799  0.006099 -0.004180  0.001002  0.000000 -0.007739\n",
      "2007-01-10  0.046746 -0.004282  0.007303 -0.010064 -0.004486 -0.015376\n",
      "                AAPL       GLD       JPM      MSFT       TLT       XOM\n",
      "Date                                                                  \n",
      "2025-06-24 -0.005973 -0.015844  0.010688  0.008421  0.007234 -0.030900\n",
      "2025-06-25  0.006271  0.003033  0.009906  0.004397  0.001258  0.000277\n",
      "2025-06-26 -0.002782 -0.001108  0.016376  0.010468  0.005015  0.014838\n",
      "2025-06-27  0.000398 -0.018290 -0.005696 -0.003040 -0.006388 -0.005561\n",
      "2025-06-30  0.020136  0.011913  0.009705  0.002960  0.009793 -0.014550\n"
     ]
    }
   ],
   "source": [
    "log_returns = pd.read_csv(\"log_returns.csv\", parse_dates=[\"Date\"], index_col=\"Date\")\n",
    "\n",
    "print(log_returns.head())\n",
    "print(log_returns.tail())"
   ]
  },
  {
   "cell_type": "code",
   "execution_count": null,
   "metadata": {},
   "outputs": [
    {
     "name": "stdout",
     "output_type": "stream",
     "text": [
      "The value at risk is 299737.97748944705\n"
     ]
    },
    {
     "data": {
      "text/plain": [
       "np.float64(299737.97748944705)"
      ]
     },
     "execution_count": 43,
     "metadata": {},
     "output_type": "execute_result"
    }
   ],
   "source": [
    "weights = np.array([1/6]*6)\n",
    "value = 10000000 # portfolio value\n",
    "confidence = .95 # confidence level\n",
    "lookback = 5 # 5 day lookback period\n",
    "\n",
    "\"\"\" Implementing simple historical value at risk\"\"\"\n",
    "\n",
    "def var():\n",
    "    range_returns = log_returns.rolling(window=lookback).sum()\n",
    "\n",
    "    range_returns = range_returns.dropna()\n",
    "\n",
    "    portfolio_returns = range_returns.dot(weights)\n",
    "\n",
    "    percentile = (1-confidence) * 100\n",
    "\n",
    "    var = -np.percentile(portfolio_returns, percentile) * value\n",
    "\n",
    "    print(f\"The value at risk is {var}\")\n",
    "\n",
    "    return var\n",
    "\n",
    "var()"
   ]
  },
  {
   "cell_type": "code",
   "execution_count": null,
   "metadata": {},
   "outputs": [
    {
     "name": "stdout",
     "output_type": "stream",
     "text": [
      "The value at risk is 299737.97748944705\n",
      "The conditional value at risk (expected shortfall) is 23233.501585376795\n"
     ]
    },
    {
     "data": {
      "text/plain": [
       "np.float64(23233.501585376795)"
      ]
     },
     "execution_count": 44,
     "metadata": {},
     "output_type": "execute_result"
    }
   ],
   "source": [
    "var = var()\n",
    "\n",
    "\"\"\"Implementing expected shortfall or Conditional value at risk\"\"\"\n",
    "\n",
    "def CVaR():\n",
    "    range_returns = log_returns.rolling(window=lookback).sum()\n",
    "\n",
    "    range_returns = range_returns.dropna()\n",
    "        \n",
    "    portfolio_returns = range_returns.dot(weights)\n",
    "    \n",
    "    tail_losses = portfolio_returns[portfolio_returns <= var]\n",
    "\n",
    "    cvar = tail_losses.mean() * value\n",
    "\n",
    "    print(f\"The conditional value at risk (expected shortfall) is {cvar}\")\n",
    "\n",
    "    return cvar\n",
    "CVaR()"
   ]
  },
  {
   "cell_type": "code",
   "execution_count": null,
   "metadata": {},
   "outputs": [],
   "source": [
    "\"\"\"weighted VaR to come\"\"\""
   ]
  }
 ],
 "metadata": {
  "kernelspec": {
   "display_name": "py39",
   "language": "python",
   "name": "python3"
  },
  "language_info": {
   "codemirror_mode": {
    "name": "ipython",
    "version": 3
   },
   "file_extension": ".py",
   "mimetype": "text/x-python",
   "name": "python",
   "nbconvert_exporter": "python",
   "pygments_lexer": "ipython3",
   "version": "3.9.18"
  }
 },
 "nbformat": 4,
 "nbformat_minor": 2
}
